{
  "nbformat": 4,
  "nbformat_minor": 0,
  "metadata": {
    "colab": {
      "name": "numpy.ipynb",
      "version": "0.3.2",
      "provenance": [],
      "include_colab_link": true
    },
    "kernelspec": {
      "name": "python3",
      "display_name": "Python 3"
    }
  },
  "cells": [
    {
      "cell_type": "markdown",
      "metadata": {
        "id": "view-in-github",
        "colab_type": "text"
      },
      "source": [
        "<a href=\"https://colab.research.google.com/github/prayasshrivastava/Python-Programming/blob/master/numpy.ipynb\" target=\"_parent\"><img src=\"https://colab.research.google.com/assets/colab-badge.svg\" alt=\"Open In Colab\"/></a>"
      ]
    },
    {
      "cell_type": "code",
      "metadata": {
        "id": "SpGcW3OQxdME",
        "colab_type": "code",
        "colab": {
          "base_uri": "https://localhost:8080/",
          "height": 101
        },
        "outputId": "b1b12dd7-d176-45f8-e754-4b14bea0e25e"
      },
      "source": [
        "import numpy as np\n",
        "print(\"Enter rows and columns in terms of 'Pxq'\")\n",
        "rows,columns = input().split(\"x\")  \n",
        "rows=int(rows)\n",
        "columns=int(columns)\n",
        "array=np.random.rand(rows,columns)\n",
        "np.savetxt('test1.txt', array, fmt='%d')\n",
        "print(array)"
      ],
      "execution_count": 10,
      "outputs": [
        {
          "output_type": "stream",
          "text": [
            "Enter rows and columns in terms of 'Pxq'\n",
            "3x4\n",
            "[[0.07596236 0.84831895 0.47958764 0.85693398]\n",
            " [0.78616694 0.28207796 0.12618962 0.33892755]\n",
            " [0.70570288 0.73244973 0.15961093 0.46711062]]\n"
          ],
          "name": "stdout"
        }
      ]
    },
    {
      "cell_type": "code",
      "metadata": {
        "id": "OETRi0a6yius",
        "colab_type": "code",
        "colab": {}
      },
      "source": [
        ""
      ],
      "execution_count": 0,
      "outputs": []
    }
  ]
}